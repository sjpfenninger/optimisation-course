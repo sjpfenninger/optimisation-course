{
 "cells": [
  {
   "attachments": {},
   "cell_type": "markdown",
   "id": "9195893f-cda6-41f1-a2c2-29627bdc0a77",
   "metadata": {
    "id": "9195893f-cda6-41f1-a2c2-29627bdc0a77"
   },
   "source": [
    "If you are running this on Google Colab, you need to uncomment (remove the `#`) and execute the following lines to install the Pyomo package, the solver, and some helper tools. If you are running this on Binder or elsewhere (e.g. your own computer) you can ignore this."
   ]
  },
  {
   "cell_type": "code",
   "execution_count": 1,
   "id": "498eca95-d5e7-4de5-ad3d-c82a6f66eb01",
   "metadata": {
    "id": "498eca95-d5e7-4de5-ad3d-c82a6f66eb01",
    "tags": []
   },
   "outputs": [],
   "source": [
    "# !pip install pyomo==6.4.1\n",
    "# !apt install glpk-utils\n",
    "# !pip install \"git+https://github.com/sjpfenninger/optimisation-course.git#egg=optimutils&subdirectory=optimutils\""
   ]
  },
  {
   "cell_type": "code",
   "execution_count": 2,
   "id": "1086144f-da10-4679-962a-7dd7ab4c1538",
   "metadata": {
    "id": "1086144f-da10-4679-962a-7dd7ab4c1538"
   },
   "outputs": [],
   "source": [
    "import pyomo.environ as pyo\n",
    "\n",
    "from optimutils import summarise_results"
   ]
  },
  {
   "attachments": {},
   "cell_type": "markdown",
   "id": "af0430fd",
   "metadata": {
    "id": "af0430fd"
   },
   "source": [
    "# Assignment 2 - Mixed-integer linear programming (MILP)"
   ]
  },
  {
   "attachments": {},
   "cell_type": "markdown",
   "id": "c48d9897",
   "metadata": {},
   "source": [
    "This assignment is structured in two blocks: individual tasks and group tasks. The individual tasks are made of simple preliminary exercises that should be done individually before the instruction session. These are necessary/helpful for completing the group tasks. The group tasks involve the use of Python/Pyomo and consist of a complete optimization problem, which will be solved during the instructions."
   ]
  },
  {
   "attachments": {},
   "cell_type": "markdown",
   "id": "615cdfd0",
   "metadata": {},
   "source": [
    "# Individual tasks"
   ]
  },
  {
   "attachments": {},
   "cell_type": "markdown",
   "id": "16f50ed7",
   "metadata": {},
   "source": [
    "## Exercise 1"
   ]
  },
  {
   "attachments": {},
   "cell_type": "markdown",
   "id": "8868f1d4",
   "metadata": {},
   "source": [
    "From anoptimization point of view, the choice of the right optimization method or algorithm for a given problem is crucially important. The method chosen for an optimization task should largely depend on the type of the problem."
   ]
  },
  {
   "attachments": {},
   "cell_type": "markdown",
   "id": "a917ab42",
   "metadata": {},
   "source": [
    "**(a)** Explain from the perspective of the optimization theory what the most important differences between Classic Economic Dispatch (CED) and Unit Commitment (UC) are. "
   ]
  },
  {
   "attachments": {},
   "cell_type": "markdown",
   "id": "e04c20b2",
   "metadata": {},
   "source": [
    "**(b)** Explain which numerical optimization method can be applied for solving CED problems and which one for solving UC problems"
   ]
  },
  {
   "attachments": {},
   "cell_type": "markdown",
   "id": "9e7e8950",
   "metadata": {},
   "source": [
    "## Exercise 2"
   ]
  },
  {
   "attachments": {},
   "cell_type": "markdown",
   "id": "d45d4cbe",
   "metadata": {},
   "source": [
    "Try to formulate the optimization problem for Group Task (4.a)\n",
    "\n",
    "<div class=\"alert alert-block alert-info\">\n",
    "💡 Hint: there should be 20 decision variables in total including continuous and binary variables\n",
    "</div>"
   ]
  },
  {
   "attachments": {},
   "cell_type": "markdown",
   "id": "43d435a4",
   "metadata": {},
   "source": [
    "## Exercise 3"
   ]
  },
  {
   "attachments": {},
   "cell_type": "markdown",
   "id": "d4fbfa30",
   "metadata": {},
   "source": [
    "Go to https://www.epexspot.com/en/basicspowermarket#negative-prices-q-a and answer the following questions. Complete correct answers to these questions can be found at the EPEX website. "
   ]
  },
  {
   "attachments": {},
   "cell_type": "markdown",
   "id": "c21ebe4f",
   "metadata": {},
   "source": [
    "**(a)** What are negative prices and how do they occur?  \n",
    "\n",
    "**(b)** Are negative prices a theoretical concept or is the buyer really paid to buying electricity?\n",
    "\n",
    "**(c)** How often do they occur?\n",
    "\n",
    "**(d)** Are there any means to soften or prevent negative prices?\n",
    "\n",
    "**(e)** Are final consumers benefitting from negative prices?"
   ]
  },
  {
   "attachments": {},
   "cell_type": "markdown",
   "id": "1ea58c20",
   "metadata": {
    "id": "1ea58c20"
   },
   "source": [
    "## Exercise 4"
   ]
  },
  {
   "attachments": {},
   "cell_type": "markdown",
   "id": "6193a7e2-9b54-4bca-a511-e0b366e07ba5",
   "metadata": {
    "id": "6193a7e2-9b54-4bca-a511-e0b366e07ba5"
   },
   "source": [
    "Consider three generating units and two demands. Each unit offers three blocks, while each demand bids four blocks. The technical characteristics of the generating units are given in the table as follows:\n",
    "\n",
    "| Unit Data | Unit 1 | Unit 2 | Unit 3|\n",
    "|:---|---:|---:|---:|\n",
    "| Capacity (MW) | 30 | 25 | 25 |\n",
    "| Minimum Power Output (MW) | 5 | 8 | 10 |\n",
    "| Ramp up/down limit (MW/h) | 5 | 10 | 10 |\n",
    "| Initial Status (on/off) | on | on | on |\n",
    "| Initial power output (MW) | 10 | 15 | 10 |\n",
    "\n",
    "Offers by generators and bids by demands are as follows:\n",
    "\n",
    "| Offers | Unit 1 | Unit 2 | Unit 3|\n",
    "|:---|---:|---:|---:|\n",
    "| Block |  1 2 3  |  1 2 3   |  1 2 3   |\n",
    "| Power (MW) | 5 12 13 |  8 8 9  | 10 10 5 |\n",
    "| Price ($/MWh) | 1 3 3.5 | 4.5 5 6 |  8 9 10 |  \n",
    "\n",
    "\n",
    "\n",
    "\n",
    "\n",
    "| Bids | Demand 1 | Demand 2 |\n",
    "|:---|---:|---:|\n",
    "| Block |  1 2 3 4 |  1 2 3 4  | \n",
    "| Energy (MWh) | 6 5 5 3 |   5 4 4 3 |\n",
    "| Price ($/MWh) | 20 15 7 4 | 18 16 11 3 |\n"
   ]
  },
  {
   "attachments": {},
   "cell_type": "markdown",
   "id": "27555b19",
   "metadata": {},
   "source": [
    "**(a)** Define the single-period auction problem as an optimization problem by specifying: \n",
    "- degrees of freedom (optimization variables)\n",
    "- objective function\n",
    "- constraints\n",
    "- type of the optimization problem\n",
    "\n",
    "💡 Hint: there should be 20 decision variables in total including continuous and binary variables"
   ]
  },
  {
   "attachments": {},
   "cell_type": "markdown",
   "id": "864940e4",
   "metadata": {},
   "source": [
    "**(b)**  Calculate the market clearing price and the social welfare in Python for the following cases:\n",
    "\n",
    "- Case 1: minimum power output and ramping constraints are not taken into account\n",
    "- Case 2: minimum power output and ramping constrains are taken into account.\n"
   ]
  },
  {
   "attachments": {},
   "cell_type": "markdown",
   "id": "9c3064ab",
   "metadata": {},
   "source": [
    "### Case 1\n",
    "\n",
    "Minimum power output and ramping constraints are not taken into account"
   ]
  },
  {
   "attachments": {},
   "cell_type": "markdown",
   "id": "a96402fa",
   "metadata": {},
   "source": [
    "Reminder: In Pyomo, to constrain variables as integer or binary, you can set the appropriate `domain` when creating the variable.\n",
    "\n",
    "```python\n",
    "m.continuous_variable = pyo.Var(domain=pyo.NonNegativeReals)\n",
    "m.binary_variable = pyo.Var(domain=pyo.Binary)\n",
    "m.integer_variable = pyo.Var(domain=pyo.Integer)\n",
    "```"
   ]
  },
  {
   "attachments": {},
   "cell_type": "markdown",
   "id": "2b8f6acb",
   "metadata": {},
   "source": []
  },
  {
   "cell_type": "code",
   "execution_count": null,
   "id": "ecf0360f",
   "metadata": {
    "id": "ecf0360f"
   },
   "outputs": [],
   "source": []
  },
  {
   "attachments": {},
   "cell_type": "markdown",
   "id": "ff041698",
   "metadata": {},
   "source": [
    "### Case 2\n",
    "\n",
    "Minimum power output and ramping constraints are taken into account"
   ]
  },
  {
   "cell_type": "code",
   "execution_count": null,
   "id": "92202b28-e504-4042-adc0-63e80e1ad4f8",
   "metadata": {
    "id": "92202b28-e504-4042-adc0-63e80e1ad4f8"
   },
   "outputs": [],
   "source": []
  },
  {
   "cell_type": "code",
   "execution_count": null,
   "id": "d600feed",
   "metadata": {},
   "outputs": [],
   "source": []
  },
  {
   "attachments": {},
   "cell_type": "markdown",
   "id": "921f3894",
   "metadata": {},
   "source": [
    "**(c)** What can you say about the producer surplus and customer surplus in both cases?"
   ]
  },
  {
   "attachments": {},
   "cell_type": "markdown",
   "id": "ae4f57ad-b656-499e-8b2c-e1d31adb40e1",
   "metadata": {},
   "source": [
    "## 5) Unit Commitment with MILP"
   ]
  },
  {
   "attachments": {},
   "cell_type": "markdown",
   "id": "2374ac8a-e381-4c10-94bb-d5aa2cff09f7",
   "metadata": {},
   "source": [
    "Formulate Multiperiod Unit Commitment problem for four periods to satisfy the expected demand given below:\n",
    "\n",
    "| Period | PtD (MW) | \n",
    "|:---|---:|\n",
    "| 1 | 40 | \n",
    "| 2 | 250 | \n",
    "| 3 | 300 |\n",
    "| 4 | 600| \n",
    "\n",
    "and the following known characteristics of the three production units:\n",
    "\n",
    "| Unit | 1 | 2 | 3 |\n",
    "|:---|---:|---:|---:|\n",
    "| PGmin (MW) | 0 | 0 | 0 |\n",
    "| PGmax (MW) | 400 | 300 | 250|\n",
    "| RampUp limit (MW/h) | 160 | 150 | 100 |\n",
    "| RampDown limit (MW/h) | 160 | 150 | 100 |\n",
    "| Initial Power Output (MW) | 0 | 0 | 0 |\n",
    "| Initial Status | off | off | off |\n",
    "\n",
    "The generation cost of each unit specified by the function $C_{jt}(u_{jt},P_{Gjt})$ - in other words, it depends on both whether the unit is running and how much electricity it is producing:\n",
    "\n",
    "$C_{jt}(u_{jt},P_{Gjt})$ = $C_0$ * $u_{jt}$ + a * $P_{Gjt}$\n",
    "\n",
    "The relevant parameters for the three units are:\n",
    "\n",
    "| Unit | 1 | 2 | 3 |\n",
    "|:---|---:|---:|---:|\n",
    "| $C_0$ (﹩/h) | 100 | 200 | 300 |\n",
    "| a (﹩/MWh) | 20 | 25 | 40 |\n",
    "\n"
   ]
  },
  {
   "attachments": {},
   "cell_type": "markdown",
   "id": "9b06b309",
   "metadata": {},
   "source": [
    "**(a)** (Case 1) In this first case, do not include ramping limits. In the problem formulation specify:\n",
    "- decision variables (degrees of freedom),\n",
    "- objective function\n",
    "- the constraints\n",
    "- type of optimization problem  \n",
    "\n",
    "After formulating it, implement and solve the problem with Python."
   ]
  },
  {
   "cell_type": "code",
   "execution_count": null,
   "id": "70e06bc0-0aab-4de5-ae73-75777f8c5044",
   "metadata": {
    "colab": {
     "base_uri": "https://localhost:8080/"
    },
    "id": "70e06bc0-0aab-4de5-ae73-75777f8c5044",
    "outputId": "7c7740f1-0722-48d4-d7df-cbb3374bff7f"
   },
   "outputs": [],
   "source": []
  },
  {
   "cell_type": "code",
   "execution_count": null,
   "id": "3af22763",
   "metadata": {},
   "outputs": [],
   "source": []
  },
  {
   "attachments": {},
   "cell_type": "markdown",
   "id": "bc88af76",
   "metadata": {},
   "source": [
    "**(b)** (Case 2) Building on the problem formulation and Python implementation of 5.a, we want to consider an additional case: the unit commitment problem from case 1, but including ramping limits."
   ]
  },
  {
   "attachments": {},
   "cell_type": "markdown",
   "id": "4d0e9001",
   "metadata": {},
   "source": [
    "**(c)** Compare the results across the twocases. How does adding ramping limits and a reserve constraint influence the dispatch schedule for the three units across the four time steps?"
   ]
  }
 ],
 "metadata": {
  "colab": {
   "collapsed_sections": [],
   "provenance": []
  },
  "kernelspec": {
   "display_name": "Python [conda env:sen1511]",
   "language": "python",
   "name": "conda-env-sen1511-py"
  },
  "language_info": {
   "codemirror_mode": {
    "name": "ipython",
    "version": 3
   },
   "file_extension": ".py",
   "mimetype": "text/x-python",
   "name": "python",
   "nbconvert_exporter": "python",
   "pygments_lexer": "ipython3",
   "version": "3.10.5"
  }
 },
 "nbformat": 4,
 "nbformat_minor": 5
}
