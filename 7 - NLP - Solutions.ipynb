{
 "cells": [
  {
   "attachments": {},
   "cell_type": "markdown",
   "id": "af0430fd",
   "metadata": {},
   "source": [
    "# Assignment 4 - Nonlinear programming (NLP)"
   ]
  },
  {
   "attachments": {},
   "cell_type": "markdown",
   "id": "d25a8d6f",
   "metadata": {},
   "source": [
    "This assignment is structured in two blocks: individual tasks and group tasks. The individual tasks are made of simple preliminary exercises that should be done individually before the instruction session. These are necessary/helpful for completing the group tasks. The group tasks involve the use of Python/Pyomo and consist of a complete optimization problem, which will be solved during the instructions."
   ]
  },
  {
   "attachments": {},
   "cell_type": "markdown",
   "id": "abc4bc8f",
   "metadata": {},
   "source": [
    "## Individual Tasks"
   ]
  },
  {
   "attachments": {},
   "cell_type": "markdown",
   "id": "63acbb21",
   "metadata": {},
   "source": [
    "## Exercise 1\n",
    "\n",
    "**(a)** Formulate Economic Dispatch with Elastic Demand as an optimization problem and \n",
    "\n",
    "**(b)** Explain how it can be solved \n",
    "\n",
    "**(c)** What can you say about the incremental utility? What does the incremental utilitysay? \n"
   ]
  },
  {
   "attachments": {},
   "cell_type": "markdown",
   "id": "4b4b411c",
   "metadata": {},
   "source": [
    "<div style=\"color:red\">\n",
    "\n",
    "**(a)**  If the demands are elastic, the ED consists of maximizing the social welfare:\n",
    "\n",
    "$\\max SW{(P_{G}, P_{D})} = \\sum_{j=1}^m U_j(P_{D_j}) - \\sum_{i=1}^n C_i(P_{G_i})$  (**objective function**)\n",
    "\n",
    "with $P_{Dj}$ and $P_{Gi}$ , as _decision variables_, whereby an elastic demand is characterized\n",
    "by its utility function, $U_{j}(P_{Dj})$ in [€/h], expressing the individual utility or benefit obtained\n",
    "by consuming the individual demand PDj MW during 1 h.\n",
    "\n",
    "Without transmission losses, the system production should equal the system demand: \n",
    "\n",
    "$\\sum_{j=1}^m P_{D_j} = \\sum_{i=1}^n P_{G_i}$ (**equality constraint**)\n",
    "\n",
    "If the operating limits on the generating units and the demands are ignored, the\n",
    "onlyconstraint considered is again the power balance, which is an equality\n",
    "constraint\n",
    "\n",
    "</div>"
   ]
  },
  {
   "attachments": {},
   "cell_type": "markdown",
   "id": "e4eb530b",
   "metadata": {},
   "source": [
    "<div style=\"color:red\">\n",
    "\n",
    "**(b)** This problem can be solved analytically by formulating the Lagrangian function:\n",
    "\n",
    "$$ L(P_{G}, P_{D}, \\lambda) = \\sum_{j=1}^m U_j(P_{D_j}) - \\sum_{i=1}^n C_i(P_{G_i}) + \\lambda (\\sum_{i=1}^m P_{G_i} - \\sum_{j=1}^n P_{D_j})$$\n",
    "\n",
    "The first-order necessary optimality conditions are:\n",
    "\n",
    "$\\frac{\\partial L}{\\partial P_{G_i}} = -IC_i(P_{G_i}) + \\lambda = 0$ for $i = 1, 2, ..., n$\n",
    "\n",
    "$\\frac{\\partial L}{\\partial P_{D_j}} = \\frac{d U_j(P_{D_j})}{d P_{D_j}} - \\lambda = 0$ for $j = 1, 2, ..., m$ \n",
    "\n",
    "\n",
    "\n",
    "This problem can also be solved numerically as non-linear programming problem with\n",
    "equality constraint (if only power balance equation is considered) or as non-linear\n",
    "programming problem with inequality constraints (if also generation limits are\n",
    "considered).\n",
    "\n",
    "</div"
   ]
  },
  {
   "attachments": {},
   "cell_type": "markdown",
   "id": "e67fa32a",
   "metadata": {},
   "source": [
    "<div style=\"color:red\">\n",
    "\n",
    "**(c)** The above result again shows that all generating units must operate at identical\n",
    "incremental costs, here equal to + $\\lambda$ for both units, as $-IC_i (P_{Gi}) +\\lambda = 0$. Please notice that “$+\\lambda$” or “$– \\lambda$” does not matter, it is just a sign depending how the constraint is written.\n",
    "\n",
    "All demands operate at identical marginal utilities as indicated by the second equation:\n",
    "\n",
    "$$ \\frac{d U_j (P_{Dj})}{dP_{Dj}} = IU_j(P_{Dj}) = \\lambda . $$\n",
    "\n",
    "Moreover, the single incremental cost must be equal\n",
    "to the single incremental utility.\n",
    "\n",
    "</div"
   ]
  },
  {
   "attachments": {},
   "cell_type": "markdown",
   "id": "6f579b3b",
   "metadata": {},
   "source": [
    "## Exercise 2\n",
    "\n",
    "The load of 300 MW must be supplied at minimum cost by two thermal generating units and a small\n",
    "run-of-the river hydro plant. The hydro plant generates a constant 40 MW at negligible operational\n",
    "cost. The cost functions of the thermal power plants are as follows:\n",
    "\n",
    "Generation Unit A: C(PGA) = 20 +1,7*PGA + 0,04*PGA2 [€/h]\n",
    "\n",
    "Generation Unit B: C(PGB) = 16 +1,8*PGB + 0,03*PGB2 [€/h]\n",
    "\n",
    "**(a)** Calculate the optimal outputs of the thermal units without considering generation limits\n",
    "(without using Python)\n",
    "\n",
    "**(b)** Suppose now that the generating units are limited by $P^{MAX}_{GA}$ = 250 MW and\n",
    "$P^{MAX}_{GB}$ =100 MW. Write the optimality conditions for this case with constraints on generation limits"
   ]
  },
  {
   "attachments": {},
   "cell_type": "markdown",
   "id": "2670c1e5",
   "metadata": {},
   "source": [
    "<div style=\"color:red\">\n",
    "\n",
    "**(a)** The necessary conditions for the optimality There are two decision variables (degrees of freedom):\n",
    "\n",
    "- PG1 (generation of unit A)\n",
    "\n",
    "- PG2 (generation of unit B)\n",
    "\n",
    "The total production cost, to be minimized objective function, for the two generation units is:\n",
    "$$ C(P_G) = 20  + 1,7P_{G1} + 0.04 P_{G1}^2 + 16 + 1,8 P_{G2} + 0,03 P_{G2}^2$$\n",
    "\n",
    "As the total system demand is $ P^{total}_D = 300 $ and both generating units + hydro plant contribute to supply this demand, the total production must equal the total demand\n",
    "\n",
    "$ P_{G1} + P_{G2} + 40 = 300$  (**equality constraint** - the power balance) \n",
    "\n",
    "The only constraint to be considered is the **demand constraint (power balance)**. This\n",
    "problem can be solved as non-linear optimization problem with equality constraints.\n",
    "\n",
    "Since the sole constraint considered here is the one expressing the power balance, the\n",
    "Lagrangian function becomes:\n",
    "\n",
    "$$ L(P_{G}, \\lambda) = \\sum_{i=1}^{n=2} C_i(P_{G_i}) + \\lambda ( \\sum_{i=1}^{n=2} P_{G_i} + 40 - P_D^{total})$$\n",
    "\n",
    "The necessary optimality conditions are:\n",
    "\n",
    "$$\\frac{\\partial L(P_{Gi}, \\lambda)}{\\partial P_{G_i}} = -\\frac{dC_i(P_{G_i})}{dP_{G_i}} + \\lambda = MC_i (P_{Gi}) + \\lambda = 0, \\quad   i = 1, 2$$\n",
    "\n",
    "$$\\frac{\\partial L(P_{Gi}, \\lambda)}{\\partial \\lambda} = \\sum_{i=1}^{n=2} P_{G_i} + 40 - P_D^{total} = 0, \\quad i= 1,2$$\n",
    "\n",
    "The function $MC_i(P_{Gi})$ is the marginal cost of unit “$i$”, it is equal to $– \\lambda$ for both units, as\n",
    "$MC_i(P_{Gi}) + \\lambda = 0.$\n",
    "\n",
    "Both units must operate at identical incremental costs equal to minus Lagrange multiplier ($-\\lambda$). Solving the two above mentions equations gives the following optimal value:\n",
    "\n",
    "$P_{G1}^* = 112,1429 $\n",
    "\n",
    "$P_{G2}^* =147,8571 $\n",
    "\n",
    "</div>"
   ]
  },
  {
   "attachments": {},
   "cell_type": "markdown",
   "id": "b43d8d6b",
   "metadata": {},
   "source": [
    "<div style=\"color:red\" width=\"100\">\n",
    "\n",
    "**(b)** This problem cannot be solved using the Lagrange multipliers only, because two\n",
    "inequality constraints are in place:\n",
    "\n",
    "$0≤P_{G1} ≤250$\n",
    "\n",
    "$0≤P_{G2}≤100$\n",
    "\n",
    "When compared with the solution get with the balancing equation only, we see that the\n",
    "second inequality constraint on generation limits becomes active (bounding). The Karesh\n",
    "Kuhn Tucker (KKT) conditions for optimality apply here.\n",
    "The Lagrangian function with KTT multipliers is:\n",
    "\n",
    "  $ \\mathcal{L}(P_{G1}, P_{G2}, \\lambda, \\mu_1, \\mu_2) = (20 + 1,7 P_{G1} + 0,04 P_{G1}^2) + (16 + 1,8 P_{G2} + 0,03 P_{G2}^2) + \\lambda (P_{G1} + P_{G2} - 260) + \\mu_1 (P_{G1} - 250) + \\mu_2 (P_{G2} - 100)$ \n",
    "\n",
    "The optimality conditions are:\n",
    "\n",
    "$$\\frac{\\partial \\mathcal{L}}{\\partial P_{G1}} = 1.7 + 0.08 P_{G1} + \\lambda + \\mu_1 = 0$$\n",
    "\n",
    "$$\\frac{\\partial \\mathcal{L}}{\\partial P_{G2}} =  1.8 + 0.06 P_{G2} + \\lambda + \\mu_2 = 0$$\n",
    "\n",
    "$$\\frac{\\partial \\mathcal{L}}{\\partial \\lambda} = P_{G1} + P_{G2} - 260 = 0$$\n",
    "\n",
    "$$ P_{G1}  ≤ 250$$\n",
    "\n",
    "$$ P_{G2}  ≤ 100$$\n",
    "\n",
    "$$\\mu_1 (P_{G1} - 250) = 0$$\n",
    "\n",
    "$$\\mu_2 (P_{G2} - 100) = 0$$\n",
    "\n",
    "$$ \\mu_1, \\mu_2  ≥ 0$$\n"
   ]
  },
  {
   "attachments": {},
   "cell_type": "markdown",
   "id": "e08e0809",
   "metadata": {},
   "source": [
    "## Group Tasks"
   ]
  },
  {
   "attachments": {},
   "cell_type": "markdown",
   "id": "9195893f-cda6-41f1-a2c2-29627bdc0a77",
   "metadata": {},
   "source": [
    "If you are running this on Google Colab, you need to uncomment (remove the `#`) and execute the following lines to install the Pyomo package, the solver, and some helper tools. If you are running this on Binder or elsewhere (e.g. your own computer) you can ignore this."
   ]
  },
  {
   "cell_type": "code",
   "execution_count": 1,
   "id": "498eca95-d5e7-4de5-ad3d-c82a6f66eb01",
   "metadata": {
    "tags": []
   },
   "outputs": [],
   "source": [
    "# !pip install pyomo==6.4.1\n",
    "# !pip install \"git+https://github.com/sjpfenninger/optimisation-course.git#egg=optimutils&subdirectory=optimutils\"\n",
    "\n",
    "# !wget https://repo.anaconda.com/miniconda/Miniconda3-py37_4.12.0-Linux-x86_64.sh\n",
    "# !chmod +x Miniconda3-py37_4.12.0-Linux-x86_64.sh\n",
    "# !bash ./Miniconda3-py37_4.12.0-Linux-x86_64.sh -b -f -p /usr/local/\n",
    "# !conda install -y -c conda-forge ipopt"
   ]
  },
  {
   "cell_type": "code",
   "execution_count": 2,
   "id": "1086144f-da10-4679-962a-7dd7ab4c1538",
   "metadata": {},
   "outputs": [],
   "source": [
    "import pyomo.environ as pyo\n",
    "\n",
    "from optimutils import summarise_results"
   ]
  },
  {
   "attachments": {
    "58548bee-5435-437e-a4bc-e510017295b7.png": {
     "image/png": "[encoded data removed]"
    }
   },
   "cell_type": "markdown",
   "id": "1ea58c20",
   "metadata": {},
   "source": [
    "## Exercise 3 - NLP with constraints\n",
    "Formulate the economic dispatch problem for 3 power plants without losses (Ploss =0) for         3 cases with different demand levels. A quadratic unit cost function for each power plant is characterized by the parameters provided as follows:\n",
    "\n",
    "# <center> ![image.png](attachment:58548bee-5435-437e-a4bc-e510017295b7.png)\n",
    "\n",
    "|| First Power Plant| Second Power Plant |Third Power Plant|\n",
    "|:---|---:|---:|---:|\n",
    "| C0i |  10  | 20 | 20 | \n",
    "| ai | 1 | 1.1 | 1.25 | \n",
    "| bi| 0.1 | 0.05 | 0.1 | \n",
    "  \n",
    "The specific system demand levels for 3 cases were $P^{Total}_D$: 5 MW, 30 MW, and 80 MW. The maximum capacity of each unit is 30 MW for the first unit, 40 MW for the second unit, and 50 MW for the third unit.\n"
   ]
  },
  {
   "attachments": {},
   "cell_type": "markdown",
   "id": "18e4d236-d76b-479e-b965-1a6f22439748",
   "metadata": {},
   "source": [
    "### 3.a)\n",
    "Solve this ED problem numerically in Python by using the ipopt. To answer this question, take into account the maximum capacity of each unit (i.e., 30 MW for the first unit, 40 MW for the second unit, and 50 MW for the third unit)."
   ]
  },
  {
   "cell_type": "code",
   "execution_count": 3,
   "id": "a7155bd1-f185-44ee-9cb6-419ec34dc506",
   "metadata": {},
   "outputs": [
    {
     "data": {
      "text/plain": [
       "{'Problem': [{'Lower bound': -inf, 'Upper bound': inf, 'Number of objectives': 1, 'Number of constraints': 4, 'Number of variables': 3, 'Sense': 'unknown'}], 'Solver': [{'Status': 'ok', 'Message': 'Ipopt 3.14.9\\\\x3a Optimal Solution Found', 'Termination condition': 'optimal', 'Id': 0, 'Error rc': 0, 'Time': 0.038845062255859375}], 'Solution': [OrderedDict([('number of solutions', 0), ('number of solutions displayed', 0)])]}"
      ]
     },
     "execution_count": 3,
     "metadata": {},
     "output_type": "execute_result"
    }
   ],
   "source": [
    "m = pyo.ConcreteModel(name = \"Economic dispatch with quadratic cost functions\")\n",
    "m.dual = pyo.Suffix(direction=pyo.Suffix.IMPORT)\n",
    "\n",
    "##\n",
    "# 1. Decision variables\n",
    "##\n",
    "\n",
    "m.PG1 = pyo.Var(domain=pyo.NonNegativeReals)\n",
    "m.PG2 = pyo.Var(domain=pyo.NonNegativeReals)\n",
    "m.PG3 = pyo.Var(domain=pyo.NonNegativeReals)\n",
    "\n",
    "##\n",
    "# 2. Objective function\n",
    "##\n",
    "\n",
    "cost_0 = 10 +    1 * m.PG1 + 0.5 *  0.1 * m.PG1**2\n",
    "cost_1 = 20 +  1.1 * m.PG2 + 0.5 * 0.05 * m.PG2**2\n",
    "cost_2 = 20 + 1.25 * m.PG3 + 0.5 *  0.1 * m.PG3**2\n",
    "\n",
    "m.cost = pyo.Objective(\n",
    "    expr = cost_0 + cost_1 + cost_2,\n",
    "    sense = pyo.minimize,\n",
    ")\n",
    "\n",
    "##\n",
    "# 3. Constraints\n",
    "##\n",
    "\n",
    "# For the case of 80 MW demand (other cases: 5 MW, 30 MW)\n",
    "m.demand = pyo.Constraint(expr = m.PG1 + m.PG2 + m.PG3 == 80)\n",
    "\n",
    "m.pg1_max = pyo.Constraint(expr = m.PG1 <= 30)\n",
    "m.pg2_max = pyo.Constraint(expr = m.PG2 <= 40)\n",
    "m.pg3_max = pyo.Constraint(expr = m.PG3 <= 50)\n",
    "\n",
    "# Solve the problem\n",
    "solver = pyo.SolverFactory('ipopt')\n",
    "solver.solve(m)"
   ]
  },
  {
   "cell_type": "code",
   "execution_count": 4,
   "id": "a8439dba-e45b-4015-ba74-711151e44e81",
   "metadata": {},
   "outputs": [
    {
     "data": {
      "text/html": [
       "<style type=\"text/css\">\n",
       "</style>\n",
       "<table id=\"T_8a08b\" style='display:inline'>\n",
       "  <caption>Objective</caption>\n",
       "  <thead>\n",
       "    <tr>\n",
       "      <th class=\"blank level0\" >&nbsp;</th>\n",
       "      <th id=\"T_8a08b_level0_col0\" class=\"col_heading level0 col0\" >Name</th>\n",
       "      <th id=\"T_8a08b_level0_col1\" class=\"col_heading level0 col1\" >Value</th>\n",
       "    </tr>\n",
       "  </thead>\n",
       "  <tbody>\n",
       "    <tr>\n",
       "      <th id=\"T_8a08b_level0_row0\" class=\"row_heading level0 row0\" >0</th>\n",
       "      <td id=\"T_8a08b_row0_col0\" class=\"data row0 col0\" >cost</td>\n",
       "      <td id=\"T_8a08b_row0_col1\" class=\"data row0 col1\" >218.843750</td>\n",
       "    </tr>\n",
       "  </tbody>\n",
       "</table>\n",
       "   <style type=\"text/css\">\n",
       "</style>\n",
       "<table id=\"T_0d297\" style='display:inline'>\n",
       "  <caption>Variables</caption>\n",
       "  <thead>\n",
       "    <tr>\n",
       "      <th class=\"blank level0\" >&nbsp;</th>\n",
       "      <th id=\"T_0d297_level0_col0\" class=\"col_heading level0 col0\" >Name</th>\n",
       "      <th id=\"T_0d297_level0_col1\" class=\"col_heading level0 col1\" >Value</th>\n",
       "    </tr>\n",
       "  </thead>\n",
       "  <tbody>\n",
       "    <tr>\n",
       "      <th id=\"T_0d297_level0_row0\" class=\"row_heading level0 row0\" >0</th>\n",
       "      <td id=\"T_0d297_row0_col0\" class=\"data row0 col0\" >PG1</td>\n",
       "      <td id=\"T_0d297_row0_col1\" class=\"data row0 col1\" >21.250000</td>\n",
       "    </tr>\n",
       "    <tr>\n",
       "      <th id=\"T_0d297_level0_row1\" class=\"row_heading level0 row1\" >1</th>\n",
       "      <td id=\"T_0d297_row1_col0\" class=\"data row1 col0\" >PG2</td>\n",
       "      <td id=\"T_0d297_row1_col1\" class=\"data row1 col1\" >40.000000</td>\n",
       "    </tr>\n",
       "    <tr>\n",
       "      <th id=\"T_0d297_level0_row2\" class=\"row_heading level0 row2\" >2</th>\n",
       "      <td id=\"T_0d297_row2_col0\" class=\"data row2 col0\" >PG3</td>\n",
       "      <td id=\"T_0d297_row2_col1\" class=\"data row2 col1\" >18.750000</td>\n",
       "    </tr>\n",
       "  </tbody>\n",
       "</table>\n",
       "   <style type=\"text/css\">\n",
       "</style>\n",
       "<table id=\"T_f355b\" style='display:inline'>\n",
       "  <caption>Constraints</caption>\n",
       "  <thead>\n",
       "    <tr>\n",
       "      <th class=\"blank level0\" >&nbsp;</th>\n",
       "      <th id=\"T_f355b_level0_col0\" class=\"col_heading level0 col0\" >Name</th>\n",
       "      <th id=\"T_f355b_level0_col1\" class=\"col_heading level0 col1\" >Expression</th>\n",
       "      <th id=\"T_f355b_level0_col2\" class=\"col_heading level0 col2\" >Value</th>\n",
       "      <th id=\"T_f355b_level0_col3\" class=\"col_heading level0 col3\" >Shadow price</th>\n",
       "      <th id=\"T_f355b_level0_col4\" class=\"col_heading level0 col4\" >Binding</th>\n",
       "    </tr>\n",
       "  </thead>\n",
       "  <tbody>\n",
       "    <tr>\n",
       "      <th id=\"T_f355b_level0_row0\" class=\"row_heading level0 row0\" >0</th>\n",
       "      <td id=\"T_f355b_row0_col0\" class=\"data row0 col0\" >demand</td>\n",
       "      <td id=\"T_f355b_row0_col1\" class=\"data row0 col1\" >PG1 + PG2 + PG3  ==  80</td>\n",
       "      <td id=\"T_f355b_row0_col2\" class=\"data row0 col2\" >80.000000</td>\n",
       "      <td id=\"T_f355b_row0_col3\" class=\"data row0 col3\" >3.125000</td>\n",
       "      <td id=\"T_f355b_row0_col4\" class=\"data row0 col4\" >True</td>\n",
       "    </tr>\n",
       "    <tr>\n",
       "      <th id=\"T_f355b_level0_row1\" class=\"row_heading level0 row1\" >1</th>\n",
       "      <td id=\"T_f355b_row1_col0\" class=\"data row1 col0\" >pg1_max</td>\n",
       "      <td id=\"T_f355b_row1_col1\" class=\"data row1 col1\" >PG1  <=  30</td>\n",
       "      <td id=\"T_f355b_row1_col2\" class=\"data row1 col2\" >21.250000</td>\n",
       "      <td id=\"T_f355b_row1_col3\" class=\"data row1 col3\" >-0.000000</td>\n",
       "      <td id=\"T_f355b_row1_col4\" class=\"data row1 col4\" >False</td>\n",
       "    </tr>\n",
       "    <tr>\n",
       "      <th id=\"T_f355b_level0_row2\" class=\"row_heading level0 row2\" >2</th>\n",
       "      <td id=\"T_f355b_row2_col0\" class=\"data row2 col0\" >pg2_max</td>\n",
       "      <td id=\"T_f355b_row2_col1\" class=\"data row2 col1\" >PG2  <=  40</td>\n",
       "      <td id=\"T_f355b_row2_col2\" class=\"data row2 col2\" >40.000000</td>\n",
       "      <td id=\"T_f355b_row2_col3\" class=\"data row2 col3\" >-0.025000</td>\n",
       "      <td id=\"T_f355b_row2_col4\" class=\"data row2 col4\" >True</td>\n",
       "    </tr>\n",
       "    <tr>\n",
       "      <th id=\"T_f355b_level0_row3\" class=\"row_heading level0 row3\" >3</th>\n",
       "      <td id=\"T_f355b_row3_col0\" class=\"data row3 col0\" >pg3_max</td>\n",
       "      <td id=\"T_f355b_row3_col1\" class=\"data row3 col1\" >PG3  <=  50</td>\n",
       "      <td id=\"T_f355b_row3_col2\" class=\"data row3 col2\" >18.750000</td>\n",
       "      <td id=\"T_f355b_row3_col3\" class=\"data row3 col3\" >-0.000000</td>\n",
       "      <td id=\"T_f355b_row3_col4\" class=\"data row3 col4\" >False</td>\n",
       "    </tr>\n",
       "  </tbody>\n",
       "</table>\n",
       "   "
      ],
      "text/plain": [
       "<IPython.core.display.HTML object>"
      ]
     },
     "metadata": {},
     "output_type": "display_data"
    }
   ],
   "source": [
    "summarise_results(m)"
   ]
  },
  {
   "attachments": {},
   "cell_type": "markdown",
   "id": "9d780c1a-5605-4665-9dab-649f3c1f1b15",
   "metadata": {},
   "source": [
    "<div class=\"alert alert-block alert-info\">\n",
    "\n",
    "💡 As usual, you could use Python to automate - and make it easier to extend this to a larger problem with many more power plants. For example, you might specify the cost function as an actual Python function and and sum it up with `sum()` in the objective:\n",
    "\n",
    "```python\n",
    "PG = [m.PG1, m.PG2, m.PG3]\n",
    "C = [10, 20, 20]\n",
    "a = [1, 1.1, 1.25]\n",
    "b = [0.1, 0.05, 0.1]\n",
    "\n",
    "def cost(i):\n",
    "    return C[i] + a[i] * PG[i] + 0.5 * b[i] * PG[i]**2\n",
    "\n",
    "m.cost = pyo.Objective(\n",
    "    expr = sum(cost[i] for i in range(3)),\n",
    "    sense = pyo.minimize,\n",
    ")\n",
    "```\n",
    "\n",
    "</div>"
   ]
  },
  {
   "attachments": {
    "a2edb56b-289d-40e5-a403-f2fc35140c29.png": {
     "image/png": "[encoded data removed]"
    }
   },
   "cell_type": "markdown",
   "id": "f9b0c8e0-b8fe-4bfd-93af-1a106769803c",
   "metadata": {
    "tags": []
   },
   "source": [
    "### 3.b)\n",
    "Consider now the ED as above but with elastic demand characterized as follows:\n",
    "# <center> 𝑈𝑗(𝑃𝐷𝑗) = (𝑎𝑗 + 𝑏𝑗𝑃𝐷𝑗)𝑃𝐷𝑗  \n",
    "# <center> ![image.png](attachment:a2edb56b-289d-40e5-a403-f2fc35140c29.png)\n",
    "What are the optimal results? Answer this question after the problem is numerically solved in Python. What are the active constraints and their Lagrange multipliers?\n"
   ]
  },
  {
   "attachments": {},
   "cell_type": "markdown",
   "id": "dffee8fc-13f2-434d-b082-8059c228f59c",
   "metadata": {},
   "source": [
    "<div class=\"alert alert-block alert-info\">\n",
    "\n",
    "💡 Superscript and subscript “D” in the table above indicates “demand.”\n",
    "</div>"
   ]
  },
  {
   "cell_type": "code",
   "execution_count": 5,
   "id": "c5fa8daa-0c38-49d4-ad37-52c957794eac",
   "metadata": {},
   "outputs": [
    {
     "data": {
      "text/plain": [
       "{'Problem': [{'Lower bound': -inf, 'Upper bound': inf, 'Number of objectives': 1, 'Number of constraints': 6, 'Number of variables': 5, 'Sense': 'unknown'}], 'Solver': [{'Status': 'ok', 'Message': 'Ipopt 3.14.9\\\\x3a Optimal Solution Found', 'Termination condition': 'optimal', 'Id': 0, 'Error rc': 0, 'Time': 0.023051977157592773}], 'Solution': [OrderedDict([('number of solutions', 0), ('number of solutions displayed', 0)])]}"
      ]
     },
     "execution_count": 5,
     "metadata": {},
     "output_type": "execute_result"
    }
   ],
   "source": [
    "m = pyo.ConcreteModel(name = \"Economic dispatch with quadratic cost functions and elastic demand\")\n",
    "m.dual = pyo.Suffix(direction=pyo.Suffix.IMPORT)\n",
    "\n",
    "##\n",
    "# 1. Decision variables\n",
    "##\n",
    "\n",
    "# Generation\n",
    "m.PG1 = pyo.Var(domain=pyo.NonNegativeReals)\n",
    "m.PG2 = pyo.Var(domain=pyo.NonNegativeReals)\n",
    "m.PG3 = pyo.Var(domain=pyo.NonNegativeReals)\n",
    "\n",
    "# Demand\n",
    "m.PD1 = pyo.Var(domain=pyo.NonNegativeReals)\n",
    "m.PD2 = pyo.Var(domain=pyo.NonNegativeReals)\n",
    "\n",
    "##\n",
    "# 2. Objective function\n",
    "##\n",
    "\n",
    "PG = [m.PG1, m.PG2, m.PG3]\n",
    "PD = [m.PD1, m.PD2]\n",
    "C = [10, 20, 20]\n",
    "a = [1, 1.1, 1.25]\n",
    "b = [0.1, 0.05, 0.1]\n",
    "ad = [55, 50]\n",
    "bd = [-0.2, -0.1]\n",
    "\n",
    "def cost(i):\n",
    "    return C[i] + a[i] * PG[i] + 0.5 * b[i] * PG[i]**2\n",
    "\n",
    "def util (j):\n",
    "    return  ad[j]* PD[j]  +   bd[j] * PD[j]**2\n",
    "\n",
    "m.SW = pyo.Objective(\n",
    "    expr =  util (0) + util (1) - (cost(0) + cost(1) + cost(2)),\n",
    "    sense = pyo.maximize,\n",
    ")\n",
    "\n",
    "##\n",
    "# 3. Constraints\n",
    "##\n",
    "\n",
    "m.demand = pyo.Constraint(expr = m.PG1 + m.PG2 + m.PG3 == m.PD1 + m.PD2)\n",
    "\n",
    "m.pg1_max = pyo.Constraint(expr = m.PG1 <= 30)\n",
    "m.pg2_max = pyo.Constraint(expr = m.PG2 <= 40)\n",
    "m.pg3_max = pyo.Constraint(expr = m.PG3 <= 50)\n",
    "m.pd1_max = pyo.Constraint(expr = m.PD1 <= 300)\n",
    "m.pd2_max = pyo.Constraint(expr = m.PD2 <= 350)\n",
    "\n",
    "\n",
    "# Solve the problem\n",
    "solver = pyo.SolverFactory('ipopt')\n",
    "solver.solve(m)"
   ]
  },
  {
   "cell_type": "code",
   "execution_count": 6,
   "id": "9928047a-cbe3-4115-80b9-8f93af8f6191",
   "metadata": {},
   "outputs": [
    {
     "data": {
      "text/html": [
       "<style type=\"text/css\">\n",
       "</style>\n",
       "<table id=\"T_173f7\" style='display:inline'>\n",
       "  <caption>Objective</caption>\n",
       "  <thead>\n",
       "    <tr>\n",
       "      <th class=\"blank level0\" >&nbsp;</th>\n",
       "      <th id=\"T_173f7_level0_col0\" class=\"col_heading level0 col0\" >Name</th>\n",
       "      <th id=\"T_173f7_level0_col1\" class=\"col_heading level0 col1\" >Value</th>\n",
       "    </tr>\n",
       "  </thead>\n",
       "  <tbody>\n",
       "    <tr>\n",
       "      <th id=\"T_173f7_level0_row0\" class=\"row_heading level0 row0\" >0</th>\n",
       "      <td id=\"T_173f7_row0_col0\" class=\"data row0 col0\" >SW</td>\n",
       "      <td id=\"T_173f7_row0_col1\" class=\"data row0 col1\" >4864.333371</td>\n",
       "    </tr>\n",
       "  </tbody>\n",
       "</table>\n",
       "   <style type=\"text/css\">\n",
       "</style>\n",
       "<table id=\"T_765e5\" style='display:inline'>\n",
       "  <caption>Variables</caption>\n",
       "  <thead>\n",
       "    <tr>\n",
       "      <th class=\"blank level0\" >&nbsp;</th>\n",
       "      <th id=\"T_765e5_level0_col0\" class=\"col_heading level0 col0\" >Name</th>\n",
       "      <th id=\"T_765e5_level0_col1\" class=\"col_heading level0 col1\" >Value</th>\n",
       "    </tr>\n",
       "  </thead>\n",
       "  <tbody>\n",
       "    <tr>\n",
       "      <th id=\"T_765e5_level0_row0\" class=\"row_heading level0 row0\" >0</th>\n",
       "      <td id=\"T_765e5_row0_col0\" class=\"data row0 col0\" >PG1</td>\n",
       "      <td id=\"T_765e5_row0_col1\" class=\"data row0 col1\" >30.000000</td>\n",
       "    </tr>\n",
       "    <tr>\n",
       "      <th id=\"T_765e5_level0_row1\" class=\"row_heading level0 row1\" >1</th>\n",
       "      <td id=\"T_765e5_row1_col0\" class=\"data row1 col0\" >PG2</td>\n",
       "      <td id=\"T_765e5_row1_col1\" class=\"data row1 col1\" >40.000000</td>\n",
       "    </tr>\n",
       "    <tr>\n",
       "      <th id=\"T_765e5_level0_row2\" class=\"row_heading level0 row2\" >2</th>\n",
       "      <td id=\"T_765e5_row2_col0\" class=\"data row2 col0\" >PG3</td>\n",
       "      <td id=\"T_765e5_row2_col1\" class=\"data row2 col1\" >50.000000</td>\n",
       "    </tr>\n",
       "    <tr>\n",
       "      <th id=\"T_765e5_level0_row3\" class=\"row_heading level0 row3\" >3</th>\n",
       "      <td id=\"T_765e5_row3_col0\" class=\"data row3 col0\" >PD1</td>\n",
       "      <td id=\"T_765e5_row3_col1\" class=\"data row3 col1\" >48.333334</td>\n",
       "    </tr>\n",
       "    <tr>\n",
       "      <th id=\"T_765e5_level0_row4\" class=\"row_heading level0 row4\" >4</th>\n",
       "      <td id=\"T_765e5_row4_col0\" class=\"data row4 col0\" >PD2</td>\n",
       "      <td id=\"T_765e5_row4_col1\" class=\"data row4 col1\" >71.666667</td>\n",
       "    </tr>\n",
       "  </tbody>\n",
       "</table>\n",
       "   <style type=\"text/css\">\n",
       "</style>\n",
       "<table id=\"T_5a6c6\" style='display:inline'>\n",
       "  <caption>Constraints</caption>\n",
       "  <thead>\n",
       "    <tr>\n",
       "      <th class=\"blank level0\" >&nbsp;</th>\n",
       "      <th id=\"T_5a6c6_level0_col0\" class=\"col_heading level0 col0\" >Name</th>\n",
       "      <th id=\"T_5a6c6_level0_col1\" class=\"col_heading level0 col1\" >Expression</th>\n",
       "      <th id=\"T_5a6c6_level0_col2\" class=\"col_heading level0 col2\" >Value</th>\n",
       "      <th id=\"T_5a6c6_level0_col3\" class=\"col_heading level0 col3\" >Shadow price</th>\n",
       "      <th id=\"T_5a6c6_level0_col4\" class=\"col_heading level0 col4\" >Binding</th>\n",
       "    </tr>\n",
       "  </thead>\n",
       "  <tbody>\n",
       "    <tr>\n",
       "      <th id=\"T_5a6c6_level0_row0\" class=\"row_heading level0 row0\" >0</th>\n",
       "      <td id=\"T_5a6c6_row0_col0\" class=\"data row0 col0\" >demand</td>\n",
       "      <td id=\"T_5a6c6_row0_col1\" class=\"data row0 col1\" >PG1 + PG2 + PG3  ==  PD1 + PD2</td>\n",
       "      <td id=\"T_5a6c6_row0_col2\" class=\"data row0 col2\" >0.000000</td>\n",
       "      <td id=\"T_5a6c6_row0_col3\" class=\"data row0 col3\" >-35.666667</td>\n",
       "      <td id=\"T_5a6c6_row0_col4\" class=\"data row0 col4\" >True</td>\n",
       "    </tr>\n",
       "    <tr>\n",
       "      <th id=\"T_5a6c6_level0_row1\" class=\"row_heading level0 row1\" >1</th>\n",
       "      <td id=\"T_5a6c6_row1_col0\" class=\"data row1 col0\" >pg1_max</td>\n",
       "      <td id=\"T_5a6c6_row1_col1\" class=\"data row1 col1\" >PG1  <=  30</td>\n",
       "      <td id=\"T_5a6c6_row1_col2\" class=\"data row1 col2\" >30.000000</td>\n",
       "      <td id=\"T_5a6c6_row1_col3\" class=\"data row1 col3\" >31.666666</td>\n",
       "      <td id=\"T_5a6c6_row1_col4\" class=\"data row1 col4\" >True</td>\n",
       "    </tr>\n",
       "    <tr>\n",
       "      <th id=\"T_5a6c6_level0_row2\" class=\"row_heading level0 row2\" >2</th>\n",
       "      <td id=\"T_5a6c6_row2_col0\" class=\"data row2 col0\" >pg2_max</td>\n",
       "      <td id=\"T_5a6c6_row2_col1\" class=\"data row2 col1\" >PG2  <=  40</td>\n",
       "      <td id=\"T_5a6c6_row2_col2\" class=\"data row2 col2\" >40.000000</td>\n",
       "      <td id=\"T_5a6c6_row2_col3\" class=\"data row2 col3\" >32.566666</td>\n",
       "      <td id=\"T_5a6c6_row2_col4\" class=\"data row2 col4\" >True</td>\n",
       "    </tr>\n",
       "    <tr>\n",
       "      <th id=\"T_5a6c6_level0_row3\" class=\"row_heading level0 row3\" >3</th>\n",
       "      <td id=\"T_5a6c6_row3_col0\" class=\"data row3 col0\" >pg3_max</td>\n",
       "      <td id=\"T_5a6c6_row3_col1\" class=\"data row3 col1\" >PG3  <=  50</td>\n",
       "      <td id=\"T_5a6c6_row3_col2\" class=\"data row3 col2\" >50.000000</td>\n",
       "      <td id=\"T_5a6c6_row3_col3\" class=\"data row3 col3\" >29.416666</td>\n",
       "      <td id=\"T_5a6c6_row3_col4\" class=\"data row3 col4\" >True</td>\n",
       "    </tr>\n",
       "    <tr>\n",
       "      <th id=\"T_5a6c6_level0_row4\" class=\"row_heading level0 row4\" >4</th>\n",
       "      <td id=\"T_5a6c6_row4_col0\" class=\"data row4 col0\" >pd1_max</td>\n",
       "      <td id=\"T_5a6c6_row4_col1\" class=\"data row4 col1\" >PD1  <=  300</td>\n",
       "      <td id=\"T_5a6c6_row4_col2\" class=\"data row4 col2\" >48.333334</td>\n",
       "      <td id=\"T_5a6c6_row4_col3\" class=\"data row4 col3\" >0.000000</td>\n",
       "      <td id=\"T_5a6c6_row4_col4\" class=\"data row4 col4\" >False</td>\n",
       "    </tr>\n",
       "    <tr>\n",
       "      <th id=\"T_5a6c6_level0_row5\" class=\"row_heading level0 row5\" >5</th>\n",
       "      <td id=\"T_5a6c6_row5_col0\" class=\"data row5 col0\" >pd2_max</td>\n",
       "      <td id=\"T_5a6c6_row5_col1\" class=\"data row5 col1\" >PD2  <=  350</td>\n",
       "      <td id=\"T_5a6c6_row5_col2\" class=\"data row5 col2\" >71.666667</td>\n",
       "      <td id=\"T_5a6c6_row5_col3\" class=\"data row5 col3\" >0.000000</td>\n",
       "      <td id=\"T_5a6c6_row5_col4\" class=\"data row5 col4\" >False</td>\n",
       "    </tr>\n",
       "  </tbody>\n",
       "</table>\n",
       "   "
      ],
      "text/plain": [
       "<IPython.core.display.HTML object>"
      ]
     },
     "metadata": {},
     "output_type": "display_data"
    }
   ],
   "source": [
    "summarise_results(m)"
   ]
  },
  {
   "attachments": {},
   "cell_type": "markdown",
   "id": "f17a0a13",
   "metadata": {},
   "source": [
    "### 3.c)\n",
    "What is the social welfare for the optimal solution?"
   ]
  },
  {
   "attachments": {},
   "cell_type": "markdown",
   "id": "8a3cd585",
   "metadata": {},
   "source": [
    "<div style=\"color:red\">\n",
    "4864,3333\n",
    "</div>\n"
   ]
  },
  {
   "attachments": {},
   "cell_type": "markdown",
   "id": "c657e543",
   "metadata": {},
   "source": [
    "### 3.d)\n",
    "What can you say about the incremental utility? What does the incremental utility say?"
   ]
  },
  {
   "attachments": {},
   "cell_type": "markdown",
   "id": "9b48ecd0",
   "metadata": {},
   "source": [
    "<div style=\"color:red\">\n",
    "The incremental utility (or benefit function/ matginal utility) is equal to:\n",
    "\n",
    "$$ IU_j(P_{Dj}) = \\frac{d U_j(P_{Dj})}{dP_{Dj}} $$\n",
    "\n",
    "It is equal to minus Lagrange multiplier, so **35,67**\n",
    "\n",
    "It should be stressed that all generating units must operate at identical incremental costs\n",
    "(marginal costs) only in the case that the capacity constraints are not active, which is here not\n",
    "thecase. Both demands operate at identical marginal utilities"
   ]
  }
 ],
 "metadata": {
  "kernelspec": {
   "display_name": "Python [conda env:sen1511]",
   "language": "python",
   "name": "conda-env-sen1511-py"
  },
  "language_info": {
   "codemirror_mode": {
    "name": "ipython",
    "version": 3
   },
   "file_extension": ".py",
   "mimetype": "text/x-python",
   "name": "python",
   "nbconvert_exporter": "python",
   "pygments_lexer": "ipython3",
   "version": "3.10.5"
  }
 },
 "nbformat": 4,
 "nbformat_minor": 5
}
