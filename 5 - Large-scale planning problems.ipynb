{
 "cells": [
  {
   "attachments": {},
   "cell_type": "markdown",
   "metadata": {},
   "source": [
    "# Assignment week 6"
   ]
  },
  {
   "attachments": {},
   "cell_type": "markdown",
   "metadata": {},
   "source": [
    "This assignment is structured in two blocks: individual tasks and group tasks. The individual tasks are made of simple preliminary exercises that should be done individually before the instruction session. These are necessary/helpful for completing the group tasks. The group tasks involve the use of Python/Pyomo and consist of a complete optimization problem, which will be solved during the instructions."
   ]
  },
  {
   "attachments": {},
   "cell_type": "markdown",
   "metadata": {},
   "source": [
    "## Individual tasks\n",
    "### Exercise 1\n",
    "Given the following problem, you need to install power plants with sufficient capacity to supply demand, at minimum cost\n",
    "\n",
    "Locations: 1, 2, 3, 4\n",
    "\n",
    "Power plants: PV, Wind\n",
    "\n",
    "|Location | PV (MW) | Wind (MW) \t|\n",
    "|-------|-----------|---------------|\n",
    "| 1 \t| 100     \t| 0         \t|\n",
    "| 2 \t| 150     \t| 0         \t|\n",
    "| 3 \t| 400     \t| 1000      \t|\n",
    "| 4 \t| 0       \t| 1000      \t|\n",
    "\n",
    "Costs:\n",
    "- PV: 500 EUR/kW\n",
    "- Wind: 700 EUR/kW\n",
    "\n",
    "Electricity demand:\n",
    "\n",
    "| Location \t| Demand (MWh) \t|\n",
    "|-----------|---------------|\n",
    "| 1        \t| 300          \t|\n",
    "| 2        \t| 300          \t|\n",
    "| 3        \t| 500          \t|\n",
    "| 4        \t| 200          \t|\n",
    "\n",
    "The locations are connected with a transmission grid.\n",
    "\n",
    "There is no transmission loss between the locations."
   ]
  },
  {
   "attachments": {},
   "cell_type": "markdown",
   "metadata": {},
   "source": [
    "***1.a)*** Formulate this optimization problem, constraints include:\n",
    "- Max installed capacity per location and power plant type\n",
    "- Demand + supply equality"
   ]
  },
  {
   "attachments": {},
   "cell_type": "markdown",
   "metadata": {},
   "source": [
    "$ \\color{red} \\textbf{Variables:} $\n",
    "\n",
    "- $ \\color{red} P_{PV,i} \\ \\ \\text{with} \\ i=1,2,3,4 \\text{: generation of PV per location } i $\n",
    "- $ \\color{red} P_{Wind,i} \\ \\ \\text{with} \\ i=1,2,3,4 \\text{: generation of Wind per location }i$\n",
    "- $ \\color{red} P_{Demand,i} \\ \\ \\text{with} \\ i=1,2,3,4 \\text{: Demand per location }i$\n",
    "\n",
    "$ \\color{red} \\textbf{Objective function:} $\n",
    "\n",
    "$ \\color{red} \\textbf{min } J_{\\text{cost}} = \\min  \\sum_{i=1}^{4} \\big ( P_{PV,i} \\ C_{PV} + P_{Wind,i} \\ C_{Wind} \\big )$\n",
    "\n",
    "$ \\ \\ \\ \\color{red} \\text{with} \\ \\ C_{PV} = 0.5 \\ \\text{EUR}/\\text{MW} \\ \\ \\text{and} \\ \\ C_{Wind} = 0.7 \\ \\text{EUR}/\\text{MW} $\n",
    "\n",
    "\n",
    "$ \\color{red} \\textbf{Constraints:} $\n",
    "\n",
    "- $ \\color{red}  \\sum_{i=1}^{4} P_{PV,i} + \\sum_{i=1}^{4} P_{Wind,i} = \\sum_{i=1}^{4} P_{Demand,i} $\n",
    "\n",
    "- $ \\color{red}  P_{PV,i} \\leq P_{PV,i}^{\\max} \\ \\ \\text{and} \\ \\ P_{Wind,i} \\leq P_{Wind,i}^{\\max} \\ \\ \\text{for each} \\ i=1,2,3,4 $\n",
    "\n",
    "\n",
    "\n",
    "\n"
   ]
  },
  {
   "attachments": {},
   "cell_type": "markdown",
   "metadata": {},
   "source": [
    "***1.b)*** Implement the problem in **Pyomo**"
   ]
  },
  {
   "attachments": {},
   "cell_type": "markdown",
   "metadata": {},
   "source": [
    "If you are running this on Google Colab, you need to uncomment (remove the `#`) and execute the following lines to install the Pyomo package, the solver, and some helper tools. If you are running this on Binder or elsewhere (e.g. your own computer) you can ignore this."
   ]
  },
  {
   "cell_type": "code",
   "execution_count": null,
   "metadata": {},
   "outputs": [],
   "source": [
    "# !pip install pyomo==6.4.1\n",
    "# !pip install \"git+https://github.com/sjpfenninger/optimisation-course.git#egg=optimutils&subdirectory=optimutils\"\n",
    "\n",
    "# !wget https://repo.anaconda.com/miniconda/Miniconda3-py37_4.12.0-Linux-x86_64.sh\n",
    "# !chmod +x Miniconda3-py37_4.12.0-Linux-x86_64.sh\n",
    "# !bash ./Miniconda3-py37_4.12.0-Linux-x86_64.sh -b -f -p /usr/local/\n",
    "# !conda install -y -c conda-forge ipopt"
   ]
  },
  {
   "cell_type": "code",
   "execution_count": null,
   "metadata": {},
   "outputs": [],
   "source": [
    "import pyomo.environ as pyo\n",
    "\n",
    "from optimutils import summarise_results"
   ]
  },
  {
   "cell_type": "code",
   "execution_count": null,
   "metadata": {},
   "outputs": [],
   "source": [
    "# Exercise 1b\n"
   ]
  },
  {
   "attachments": {},
   "cell_type": "markdown",
   "metadata": {},
   "source": [
    "## Group Tasks"
   ]
  },
  {
   "attachments": {},
   "cell_type": "markdown",
   "metadata": {},
   "source": [
    "## Exercise 2\n",
    "Now consider that there is a 10% transmission loss when transporting electricity between locations. The transmission system looks as follows:\n",
    "\n",
    "```\n",
    "┌───┐   ┌───┐   ┌───┐\n",
    "│ 1 ├───┤ 2 ├───┤ 3 │\n",
    "└───┘   └───┘   └───┘\n",
    "```\n",
    "\n",
    "```\n",
    "                 ┌───┐\n",
    "           ┌─────┤ 3 │\n",
    "           │     └───┘\n",
    "┌───┐    ┌─┴─┐\n",
    "│ 1 ├────┤ 2 │\n",
    "└───┘    └─┬─┘\n",
    "           │     ┌───┐\n",
    "           └─────┤ 4 │\n",
    "                 └───┘\n",
    "```\n"
   ]
  },
  {
   "attachments": {},
   "cell_type": "markdown",
   "metadata": {},
   "source": [
    "***2.a)*** How would you formulate this extended problem?\n"
   ]
  },
  {
   "attachments": {},
   "cell_type": "markdown",
   "metadata": {},
   "source": [
    "<div style=\"color:blue\">\n",
    "\n",
    "*not really sure...*\n",
    "\n",
    "using the following notation:\n",
    "$P_{G,i}$ is the power generated by both $P_{PV,i}$ and $P_{Wind,i}$ at node $i$.\n",
    " $$P_{G,i} = P_{PV,i} + P_{Wind,i}$$\n",
    "\n",
    "Then for each node the equality constraint will be different according to the transmission grid:\n",
    "\n",
    "\\begin{align}\n",
    "\n",
    " P_{demand,1} = & P_{G,1} + 0.9 P_{G,2} + 0.9^2 P_{G,3} + 0.9^2 P_{G,4} \\\\\n",
    " P_{demand,2} = & P_{G,2} + 0.9 P_{G_1} + 0.9 P_{G,3} + 0.9 P_{G,4} \\\\\n",
    " P_{demand,3} = & P_{G,3} + 0.9^2 P_{G_1} + 0.9 P_{G,2} + 0.9^2 P_{G,4} \\\\\n",
    " P_{demand,4} = & P_{G,4} + 0.9^2 P_{G_1} + 0.9 P_{G,2} + 0.9^2 P_{G,3} \\\\\n",
    "\\end{align}\n",
    "\n",
    "</div>"
   ]
  },
  {
   "cell_type": "code",
   "execution_count": null,
   "metadata": {},
   "outputs": [],
   "source": [
    "#variables\n",
    "m = pyo.ConcreteModel(name = \"test\")\n",
    "\n",
    "location = [1,2,3,4]\n",
    "generator = [1,2] #[PV, wind]\n",
    "\n",
    "m.power_generation = pyo.Var(generator, location, domain= pyo.NonNegativeReals) #P_Wind,i and P_PV,i\n",
    "# m.power_demand = pyo.Var(location, domain= pyo.NonNegativeReals) #P_demand,i\n",
    "\n",
    "#constants\n",
    "generation_prices = [500000,700000] # [C_PV, C_Wind]\n",
    "power_demand = [300, 300, 500, 200]\n",
    "#objective function\n",
    "m.cost_function = pyo.Objective(\n",
    "    expr= sum(generation_prices[g-1]*m.power_generation[g,i] for g in generator for i in location) ,\n",
    "    sense = pyo.minimize)\n",
    "\n",
    "#constraints\n",
    "generate_unit_max = [[100,150,400,0] , [ 0,0,1000,1000]]\n",
    "\n",
    "for g in generator: \n",
    "  for i in location:\n",
    "    setattr(m, f\"lim_max_{g},{i}\", pyo.Constraint(expr =  m.power_generation[g,i] <= generate_unit_max[g-1][i-1]))\n",
    "\n",
    "\n",
    "m.eq_constraint_1 = pyo.Constraint( expr = power_demand[0] <= sum(m.power_generation[g,1] for g in generator) + 0.9*(sum(m.power_generation[g,2] for g in generator) - power_demand[1]) + 0.81 * (sum(m.power_generation[g,3] for g in generator) - power_demand[2]) + 0.81 * (sum(m.power_generation[g,4] for g in generator)-power_demand[3]))\n",
    "m.eq_constraint_2 = pyo.Constraint( expr = power_demand[1] <= sum(m.power_generation[g,2] for g in generator) + 0.9*(sum(m.power_generation[g,1] for g in generator) - power_demand[0])+ 0.9*(sum(m.power_generation[g,3] for g in generator) - power_demand[2]) + 0.9 * (sum(m.power_generation[g,4] for g in generator)-power_demand[3]))\n",
    "m.eq_constraint_3 = pyo.Constraint( expr = power_demand[2] <= sum(m.power_generation[g,3] for g in generator) + 0.81*(sum(m.power_generation[g,1] for g in generator) - power_demand[0])+ 0.9*(sum(m.power_generation[g,2] for g in generator) - power_demand[1]) + 0.81 * (sum(m.power_generation[g,4] for g in generator)-power_demand[3]))\n",
    "m.eq_constraint_4 = pyo.Constraint( expr = power_demand[3] <= sum(m.power_generation[g,4] for g in generator) + 0.81*(sum(m.power_generation[g,1] for g in generator) - power_demand[0])+ 0.9*(sum(m.power_generation[g,2] for g in generator) - power_demand[1]) + 0.81 * (sum(m.power_generation[g,3] for g in generator)-power_demand[2]))\n",
    "\n",
    "#solve\n",
    "m.dual = pyo.Suffix(direction=pyo.Suffix.IMPORT)\n",
    "solver = pyo.SolverFactory('glpk')\n",
    "\n",
    "solver.solve(m)\n",
    "\n",
    "summarise_results(m)"
   ]
  },
  {
   "cell_type": "code",
   "execution_count": null,
   "metadata": {},
   "outputs": [],
   "source": [
    "#variables\n",
    "m = pyo.ConcreteModel(name = \"test\")\n",
    "\n",
    "location = [1,2,3,4]\n",
    "generator = [1,2] #[PV, wind]\n",
    "\n",
    "m.power_generation = pyo.Var(generator, location, domain= pyo.NonNegativeReals) #P_Wind,i and P_PV,i\n",
    "# m.power_demand = pyo.Var(location, domain= pyo.NonNegativeReals) #P_demand,i\n",
    "\n",
    "#constants\n",
    "generation_prices = [500000,700000] # [C_PV, C_Wind]\n",
    "power_demand = [300, 300, 500, 200]\n",
    "#objective function\n",
    "m.cost_function = pyo.Objective(\n",
    "    expr= sum(generation_prices[g-1]*m.power_generation[g,i] for g in generator for i in location) ,\n",
    "    sense = pyo.minimize)\n",
    "\n",
    "#constraints\n",
    "generate_unit_max = [[100,150,400,0] , [ 0,0,1000,1000]]\n",
    "\n",
    "for g in generator: \n",
    "  for i in location:\n",
    "    setattr(m, f\"lim_max_{g},{i}\", pyo.Constraint(expr =  m.power_generation[g,i] <= generate_unit_max[g-1][i-1]))\n",
    "\n",
    "\n",
    "m.eq_constraint_1 = pyo.Constraint( expr = power_demand[0] <= sum(m.power_generation[g,1] for g in generator) + 0.5*(sum(m.power_generation[g,2] for g in generator) - power_demand[1]) + 0.25 * (sum(m.power_generation[g,3] for g in generator) - power_demand[2]) + 0.25 * (sum(m.power_generation[g,4] for g in generator)-power_demand[3]))\n",
    "m.eq_constraint_2 = pyo.Constraint( expr = power_demand[1] <= sum(m.power_generation[g,2] for g in generator) + 0.5*(sum(m.power_generation[g,1] for g in generator) - power_demand[0])+ 0.5*(sum(m.power_generation[g,3] for g in generator) - power_demand[2]) + 0.5 * (sum(m.power_generation[g,4] for g in generator)-power_demand[3]))\n",
    "m.eq_constraint_3 = pyo.Constraint( expr = power_demand[2] <= sum(m.power_generation[g,3] for g in generator) + 0.25*(sum(m.power_generation[g,1] for g in generator) - power_demand[0])+ 0.5*(sum(m.power_generation[g,2] for g in generator) - power_demand[1]) + 0.25 * (sum(m.power_generation[g,4] for g in generator)-power_demand[3]))\n",
    "m.eq_constraint_4 = pyo.Constraint( expr = power_demand[3] <= sum(m.power_generation[g,4] for g in generator) + 0.25*(sum(m.power_generation[g,1] for g in generator) - power_demand[0])+ 0.5*(sum(m.power_generation[g,2] for g in generator) - power_demand[1]) + 0.25 * (sum(m.power_generation[g,3] for g in generator)-power_demand[2]))\n",
    "\n",
    "\n",
    "# m.limits = pyo.Constraint(expr = sum(m.power_generation[g,i] for g in generator for i in location) == sum(power_demand[i-1] for i in location))\n",
    "\n",
    "#solve\n",
    "m.dual = pyo.Suffix(direction=pyo.Suffix.IMPORT)\n",
    "solver = pyo.SolverFactory('glpk')\n",
    "\n",
    "solver.solve(m)\n",
    "\n",
    "summarise_results(m)"
   ]
  },
  {
   "attachments": {},
   "cell_type": "markdown",
   "metadata": {},
   "source": [
    "***2.b)*** Implement this variant of the problem using Calliope"
   ]
  }
 ],
 "metadata": {
  "kernelspec": {
   "display_name": "Python [conda env:sen1511]",
   "language": "python",
   "name": "conda-env-sen1511-py"
  },
  "language_info": {
   "codemirror_mode": {
    "name": "ipython",
    "version": 3
   },
   "file_extension": ".py",
   "mimetype": "text/x-python",
   "name": "python",
   "nbconvert_exporter": "python",
   "pygments_lexer": "ipython3",
   "version": "3.10.5"
  }
 },
 "nbformat": 4,
 "nbformat_minor": 4
}
