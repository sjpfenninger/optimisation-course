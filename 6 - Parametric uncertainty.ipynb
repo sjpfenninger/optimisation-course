{
 "cells": [
  {
   "cell_type": "markdown",
   "id": "1e760357-658b-47cd-a21e-1bf5654f95ae",
   "metadata": {},
   "source": [
    "If you are running this on Google Colab, you need to uncomment (remove the `#`) and execute the following lines to install the Pyomo package, the solver, and some helper tools. If you are running this on Binder or elsewhere (e.g. your own computer) you can ignore this."
   ]
  },
  {
   "cell_type": "code",
   "execution_count": 1,
   "id": "382df773-328b-4bea-8e9b-465c6f421fd9",
   "metadata": {},
   "outputs": [],
   "source": [
    "# !pip install pyomo==6.4.1\n",
    "# !apt install glpk-utils\n",
    "# !pip install \"git+https://github.com/sjpfenninger/optimisation-course.git#egg=optimutils&subdirectory=optimutils\""
   ]
  },
  {
   "cell_type": "code",
   "execution_count": 2,
   "id": "091ccb80-d2d8-45ed-a8dd-1545133f3dbd",
   "metadata": {},
   "outputs": [],
   "source": [
    "import pyomo.environ as pyo\n",
    "\n",
    "from optimutils import summarise_results"
   ]
  },
  {
   "cell_type": "markdown",
   "id": "aa4f609a-304a-4f43-a619-568f3ed5e4a9",
   "metadata": {},
   "source": [
    "<div class=\"alert alert-block alert-info\">\n",
    "\n",
    "💡 Tasks 1-3, 5-6, and 8 are solved on paper.\n",
    "\n",
    "</div>"
   ]
  },
  {
   "cell_type": "markdown",
   "id": "f907635d-523a-421b-92c7-d182c810c7d1",
   "metadata": {},
   "source": [
    "## Group tasks – robust optimisation"
   ]
  },
  {
   "cell_type": "markdown",
   "id": "dec2ea96-a788-4041-97bc-8aba9441b73f",
   "metadata": {},
   "source": [
    "The consumer price for the robust optimization case is assumed to deviate at most by 40% of the nominal value (which was used for the definition of the deterministic case) as defined in the table below:\n",
    "\n",
    "| Time Period| Price λ [$/kWh]|\n",
    "|:---|---:|\n",
    "|1|120|\n",
    "|2|75|\n",
    "|3|110|\n",
    "|4|60|\n",
    "\n",
    "with the exception of the first time period, when the price is perfectly known to the consumer."
   ]
  },
  {
   "cell_type": "markdown",
   "id": "207351b8-e080-4707-948a-b0725181ecec",
   "metadata": {},
   "source": [
    "### 4.\n",
    "\n",
    "Calculate the optimal consumption schedule for deferrable load by solving the robust optimisation problem from question 3 in Python/Pyomo."
   ]
  },
  {
   "cell_type": "code",
   "execution_count": null,
   "id": "ef723c36-ff9d-4c69-9c25-e54ec4cee04a",
   "metadata": {},
   "outputs": [],
   "source": []
  },
  {
   "cell_type": "markdown",
   "id": "e57c142c-a067-40d8-be2c-2004e5506bea",
   "metadata": {},
   "source": [
    "### 7.\n",
    "\n",
    "Calculate the optimal consumption schedule for the two different values of Γ: 0.8 and 1.2.\n",
    "\n",
    "What can you conclude about the sensitivity of the optimal schedule to Γ?"
   ]
  },
  {
   "cell_type": "markdown",
   "id": "a564d254-ba36-433a-883f-92150b4aff29",
   "metadata": {},
   "source": [
    "<div class=\"alert alert-block alert-info\">\n",
    "\n",
    "💡 For this question, change the parameter \"Γ=2\" which is multiplied with beta in the objective function. Although it is easier to interpret the meaning of Γ when it is an integer, it does not have to be an integer (i.e., we are solving a continuous problem).\n",
    "\n",
    "</div>"
   ]
  },
  {
   "cell_type": "code",
   "execution_count": null,
   "id": "7e43549f-2f27-4142-81b9-aab51ac977c9",
   "metadata": {},
   "outputs": [],
   "source": []
  },
  {
   "cell_type": "markdown",
   "id": "1e60dc73-c643-4dd8-9b06-9d8ee77617d6",
   "metadata": {},
   "source": [
    "## Group tasks – stochastic optimisation"
   ]
  },
  {
   "cell_type": "markdown",
   "id": "c90e0ecb-d516-4e92-b15d-ed4a1d8e798c",
   "metadata": {},
   "source": [
    "In the “Required reading – Robust optimisation example” we looked at the problem of an electricity consumer facing both uncertain electricity price for next week (24*7= 168hrs) and addressed this decision problem with robust optimisation.\n",
    "We now want to approach the same problem with stochastic programming. To do so we consider additionally that not only price, but also demand is uncertain. Both remain constant throughout the week. \n",
    "Scenario data for demand and price are provided in the table:\n",
    "\n",
    "|Scenario data for the consumer||||\n",
    "|:---|---:|---:|---:|\n",
    "| Scenario # | Probability (per unit) | Demand [MW]| Price [€/MWh]|\n",
    "|1|0.2|110|50|\n",
    "|2|0.6|100|46|\n",
    "|3|0.2|80 |44|\n",
    "\n",
    "The rest of the problem remains the same: the consumer has the possibility of buying up to 90 MW at €45/MWh throughout next week, by signing a bilateral contract before next week, i.e., before knowing the actual demand and pool price it has to face.\n",
    "\n",
    "The decision-making problem of this consumer can be formulated as a stochastic programming problem: the consumer has to decide how much to buy from the contract PC, and to decide his pool purchases for each of the three considered demand/price realizations (scenarios) P1, P2, and P3.\n",
    "\n",
    "The objective function is the expected cost faced by the consumer to supply its uncertain demand.\n"
   ]
  },
  {
   "cell_type": "markdown",
   "id": "2e157b68-2862-4ea6-9a6e-bc4986397d6b",
   "metadata": {},
   "source": [
    "### 9."
   ]
  },
  {
   "cell_type": "markdown",
   "id": "2267359a-f061-4ff2-916f-a22f3ba3b8c5",
   "metadata": {},
   "source": [
    "Solve the problem using Python/Pyomo and provide the objective function value and the optimal decisions."
   ]
  },
  {
   "cell_type": "code",
   "execution_count": null,
   "id": "001de980-9648-4e21-a230-a88ab8c8a11a",
   "metadata": {},
   "outputs": [],
   "source": []
  }
 ],
 "metadata": {
  "kernelspec": {
   "display_name": "Python [conda env:sen1511]",
   "language": "python",
   "name": "conda-env-sen1511-py"
  },
  "language_info": {
   "codemirror_mode": {
    "name": "ipython",
    "version": 3
   },
   "file_extension": ".py",
   "mimetype": "text/x-python",
   "name": "python",
   "nbconvert_exporter": "python",
   "pygments_lexer": "ipython3",
   "version": "3.10.5"
  }
 },
 "nbformat": 4,
 "nbformat_minor": 5
}
